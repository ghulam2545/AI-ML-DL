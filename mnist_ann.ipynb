{
  "nbformat": 4,
  "nbformat_minor": 0,
  "metadata": {
    "colab": {
      "provenance": [],
      "authorship_tag": "ABX9TyNeVmDgmY3/JUCz7oFh6tGJ",
      "include_colab_link": true
    },
    "kernelspec": {
      "name": "python3",
      "display_name": "Python 3"
    },
    "language_info": {
      "name": "python"
    }
  },
  "cells": [
    {
      "cell_type": "markdown",
      "metadata": {
        "id": "view-in-github",
        "colab_type": "text"
      },
      "source": [
        "<a href=\"https://colab.research.google.com/github/ghulam2545/deep_learning/blob/main/mnist_ann.ipynb\" target=\"_parent\"><img src=\"https://colab.research.google.com/assets/colab-badge.svg\" alt=\"Open In Colab\"/></a>"
      ]
    },
    {
      "cell_type": "code",
      "execution_count": 17,
      "metadata": {
        "id": "yEri_vi6tmRi"
      },
      "outputs": [],
      "source": [
        "import numpy as np\n",
        "import matplotlib.pyplot as plt\n",
        "\n",
        "import tensorflow as tf\n",
        "from tensorflow import keras"
      ]
    },
    {
      "cell_type": "code",
      "source": [
        "(x_train, y_train), (x_test, y_test) = keras.datasets.mnist.load_data()\n",
        "\n",
        "print(x_train.shape)\n",
        "print(x_test.shape)"
      ],
      "metadata": {
        "colab": {
          "base_uri": "https://localhost:8080/"
        },
        "id": "gSSpSzxBzbVK",
        "outputId": "6c7f1103-f4b5-419a-a76d-cb109fa8c661"
      },
      "execution_count": 18,
      "outputs": [
        {
          "output_type": "stream",
          "name": "stdout",
          "text": [
            "(60000, 28, 28)\n",
            "(10000, 28, 28)\n"
          ]
        }
      ]
    },
    {
      "cell_type": "code",
      "source": [
        "x_train_processed = x_train.reshape(-1, 28*28).astype('float32') / 255.0\n",
        "x_test_processed = x_test.reshape(-1, 28*28).astype('float32') / 255.0"
      ],
      "metadata": {
        "id": "Ma1FzV52zq3T"
      },
      "execution_count": 19,
      "outputs": []
    },
    {
      "cell_type": "code",
      "source": [
        "print(x_train_processed.shape)\n",
        "print(x_train_processed.shape)"
      ],
      "metadata": {
        "colab": {
          "base_uri": "https://localhost:8080/"
        },
        "id": "CfsulpnBzuU0",
        "outputId": "2993bd37-681c-47f3-b67c-782f254975fe"
      },
      "execution_count": 20,
      "outputs": [
        {
          "output_type": "stream",
          "name": "stdout",
          "text": [
            "(60000, 784)\n",
            "(60000, 784)\n"
          ]
        }
      ]
    },
    {
      "cell_type": "code",
      "source": [
        "model = keras.Sequential([\n",
        "    keras.Input(shape=(28*28)),\n",
        "    keras.layers.Dense(512, activation='relu', name='first_layer'),\n",
        "    keras.layers.Dense(256, activation='relu', name='second_layer'),\n",
        "    keras.layers.Dense(10, name='third_layer'),\n",
        "])"
      ],
      "metadata": {
        "id": "pTGUtDGhzyqu"
      },
      "execution_count": 21,
      "outputs": []
    },
    {
      "cell_type": "code",
      "source": [
        "model.summary()"
      ],
      "metadata": {
        "colab": {
          "base_uri": "https://localhost:8080/"
        },
        "id": "81M1vqf50DSv",
        "outputId": "79d0cbe4-60ce-40ac-ff51-f80751fa1fbe"
      },
      "execution_count": 22,
      "outputs": [
        {
          "output_type": "stream",
          "name": "stdout",
          "text": [
            "Model: \"sequential_2\"\n",
            "_________________________________________________________________\n",
            " Layer (type)                Output Shape              Param #   \n",
            "=================================================================\n",
            " first_layer (Dense)         (None, 512)               401920    \n",
            "                                                                 \n",
            " second_layer (Dense)        (None, 256)               131328    \n",
            "                                                                 \n",
            " third_layer (Dense)         (None, 10)                2570      \n",
            "                                                                 \n",
            "=================================================================\n",
            "Total params: 535,818\n",
            "Trainable params: 535,818\n",
            "Non-trainable params: 0\n",
            "_________________________________________________________________\n"
          ]
        }
      ]
    },
    {
      "cell_type": "code",
      "source": [
        "model.compile(optimizer=keras.optimizers.Adam(learning_rate=0.001), loss=keras.losses.SparseCategoricalCrossentropy(from_logits=True), metrics=['accuracy'])"
      ],
      "metadata": {
        "id": "pKtWMsI00R1I"
      },
      "execution_count": 23,
      "outputs": []
    },
    {
      "cell_type": "code",
      "source": [
        "model.fit(x_train_processed, y_train, batch_size=32, epochs=5)"
      ],
      "metadata": {
        "colab": {
          "base_uri": "https://localhost:8080/"
        },
        "id": "8WR0Mnvr0XMz",
        "outputId": "bcab6d60-dcf0-4f3d-dfdd-372e70191442"
      },
      "execution_count": 24,
      "outputs": [
        {
          "output_type": "stream",
          "name": "stdout",
          "text": [
            "Epoch 1/5\n",
            "1875/1875 [==============================] - 23s 11ms/step - loss: 0.1853 - accuracy: 0.9433\n",
            "Epoch 2/5\n",
            "1875/1875 [==============================] - 20s 11ms/step - loss: 0.0799 - accuracy: 0.9747\n",
            "Epoch 3/5\n",
            "1875/1875 [==============================] - 18s 10ms/step - loss: 0.0531 - accuracy: 0.9834\n",
            "Epoch 4/5\n",
            "1875/1875 [==============================] - 21s 11ms/step - loss: 0.0410 - accuracy: 0.9863\n",
            "Epoch 5/5\n",
            "1875/1875 [==============================] - 18s 10ms/step - loss: 0.0336 - accuracy: 0.9890\n"
          ]
        },
        {
          "output_type": "execute_result",
          "data": {
            "text/plain": [
              "<keras.callbacks.History at 0x7ffab80875b0>"
            ]
          },
          "metadata": {},
          "execution_count": 24
        }
      ]
    },
    {
      "cell_type": "code",
      "source": [
        "model.evaluate(x_test_processed, y_test, batch_size=32)"
      ],
      "metadata": {
        "colab": {
          "base_uri": "https://localhost:8080/"
        },
        "id": "MvKWWH5X0laB",
        "outputId": "597a1a3a-e76a-4674-e639-0c39854594ed"
      },
      "execution_count": 25,
      "outputs": [
        {
          "output_type": "stream",
          "name": "stdout",
          "text": [
            "313/313 [==============================] - 1s 4ms/step - loss: 0.0769 - accuracy: 0.9781\n"
          ]
        },
        {
          "output_type": "execute_result",
          "data": {
            "text/plain": [
              "[0.07691015303134918, 0.9781000018119812]"
            ]
          },
          "metadata": {},
          "execution_count": 25
        }
      ]
    },
    {
      "cell_type": "code",
      "source": [
        "sample_images = x_test[:10]\n",
        "sample_labels = y_test[:10]\n",
        "\n",
        "print(sample_images.shape)\n",
        "print(sample_labels.shape)"
      ],
      "metadata": {
        "colab": {
          "base_uri": "https://localhost:8080/"
        },
        "id": "sTZbT0aR1EDH",
        "outputId": "8510495c-77cb-46b0-e75b-d7a474d8e0fe"
      },
      "execution_count": 27,
      "outputs": [
        {
          "output_type": "stream",
          "name": "stdout",
          "text": [
            "(10, 28, 28)\n",
            "(10,)\n"
          ]
        }
      ]
    },
    {
      "cell_type": "code",
      "source": [
        "rows = 2\n",
        "cols = 5\n",
        "curr_fig = 1\n",
        "\n",
        "plt.figure(figsize=(6,6))\n",
        "for i in range(rows):\n",
        "  for j in range(cols):\n",
        "    plt.subplot(rows, cols, curr_fig)\n",
        "    plt.imshow(sample_images[curr_fig - 1])\n",
        "    plt.axis('off')\n",
        "    curr_fig += 1\n",
        "plt.tight_layout()\n",
        "plt.show()    "
      ],
      "metadata": {
        "colab": {
          "base_uri": "https://localhost:8080/",
          "height": 366
        },
        "id": "knExHRsO1Z8-",
        "outputId": "8da13fbc-9b29-4ac4-f99a-a929125e7e3c"
      },
      "execution_count": 30,
      "outputs": [
        {
          "output_type": "display_data",
          "data": {
            "text/plain": [
              "<Figure size 600x600 with 10 Axes>"
            ],
            "image/png": "[encoded data removed]"
          },
          "metadata": {}
        }
      ]
    },
    {
      "cell_type": "code",
      "source": [
        "sample_images_processed = sample_images.reshape(-1, 28*28).astype('float32') / 255.0\n",
        "pred = model.predict(sample_images_processed)\n",
        "\n",
        "for _ in pred:\n",
        "  print(np.argmax(_))"
      ],
      "metadata": {
        "colab": {
          "base_uri": "https://localhost:8080/"
        },
        "id": "0gO_CMPS1c1U",
        "outputId": "85772897-10bb-47f0-90ff-7024100c819c"
      },
      "execution_count": 32,
      "outputs": [
        {
          "output_type": "stream",
          "name": "stdout",
          "text": [
            "1/1 [==============================] - 0s 66ms/step\n",
            "7\n",
            "2\n",
            "1\n",
            "0\n",
            "4\n",
            "1\n",
            "4\n",
            "9\n",
            "5\n",
            "9\n"
          ]
        }
      ]
    }
  ]
}